{
 "cells": [
  {
   "cell_type": "markdown",
   "id": "60966101-caf2-488f-841b-91de02a1b327",
   "metadata": {
    "tags": []
   },
   "source": [
    "# Data Science Tools and Ecosystem\n",
    "## In this notebook, Data Science Tools and Ecosystem are summarized.\n",
    "### Objectives:\n",
    "+ List popular languages for Data Science\n",
    "+  List commonly used for Data Science\n",
    "+ Creating a table\n",
    "\n",
    "### Some of the popular languages that Data Scientists use are:\n",
    "1. Python\n",
    "2. R\n",
    "3. C++\n",
    "### Some of the commonly used libraries used Data Scientists include:\n",
    "1. Pandas\n",
    "2.  NumPy\n",
    "3. SciPy\n",
    "\n",
    "|Data Science Tools|\n",
    "|------------------|\n",
    "|TensorFlow|\n",
    "|RStudio|\n",
    "|Apache Spark|\n",
    "\n",
    "### Below are a few examples of evaluating arithmetic expression in Python\n",
    "\n",
    "This a simple arithmetic expression to multiply then add integers\n"
   ]
  },
  {
   "cell_type": "code",
   "execution_count": 28,
   "id": "35915227-71d0-4a7f-a30f-3916f4cb00a6",
   "metadata": {
    "tags": []
   },
   "outputs": [
    {
     "data": {
      "text/plain": [
       "17"
      ]
     },
     "execution_count": 28,
     "metadata": {},
     "output_type": "execute_result"
    }
   ],
   "source": [
    "3*4+5"
   ]
  },
  {
   "cell_type": "code",
   "execution_count": 27,
   "id": "0dd47b37-9b79-4bc1-bc2f-6346bc343fee",
   "metadata": {
    "tags": []
   },
   "outputs": [
    {
     "data": {
      "text/plain": [
       "3.3333333333333335"
      ]
     },
     "execution_count": 27,
     "metadata": {},
     "output_type": "execute_result"
    }
   ],
   "source": [
    "# This will convert 200 minutes to hours by dividing by 60\n",
    "200/60"
   ]
  },
  {
   "cell_type": "markdown",
   "id": "8ec9f7f5-2b6b-498c-b696-4cf07c1cae83",
   "metadata": {},
   "source": [
    "## Author\n",
    "Khanh Tran"
   ]
  },
  {
   "cell_type": "code",
   "execution_count": null,
   "id": "32f12a5f-6481-49a6-a317-4e3088467a06",
   "metadata": {},
   "outputs": [],
   "source": []
  }
 ],
 "metadata": {
  "kernelspec": {
   "display_name": "Python",
   "language": "python",
   "name": "conda-env-python-py"
  },
  "language_info": {
   "codemirror_mode": {
    "name": "ipython",
    "version": 3
   },
   "file_extension": ".py",
   "mimetype": "text/x-python",
   "name": "python",
   "nbconvert_exporter": "python",
   "pygments_lexer": "ipython3",
   "version": "3.7.12"
  }
 },
 "nbformat": 4,
 "nbformat_minor": 5
}
